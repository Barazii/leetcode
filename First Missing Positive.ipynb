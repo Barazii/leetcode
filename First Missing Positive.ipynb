{
 "cells": [
  {
   "cell_type": "code",
   "execution_count": null,
   "id": "57fc2418",
   "metadata": {},
   "outputs": [],
   "source": [
    "class Solution:\n",
    "    def firstMissingPositive(self, nums: List[int]) -> int:\n",
    "        if 1 not in nums:\n",
    "            return 1\n",
    "        nums.sort()\n",
    "        for i in nums:\n",
    "            if i + 1 not in nums and i + 1 > 0:\n",
    "                return i + 1"
   ]
  }
 ],
 "metadata": {
  "language_info": {
   "name": "python"
  }
 },
 "nbformat": 4,
 "nbformat_minor": 5
}
