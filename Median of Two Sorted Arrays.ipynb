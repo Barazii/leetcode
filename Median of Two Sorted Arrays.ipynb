{
 "cells": [
  {
   "cell_type": "markdown",
   "metadata": {},
   "source": [
    "## Median of Two Sorted Arrays\n",
    "Given two sorted arrays nums1 and nums2 of size m and n respectively, return the median of the two sorted arrays.\n",
    "\n",
    "The overall run time complexity should be O(log (m+n)).\n",
    "\n",
    " \n",
    "\n",
    "# Example 1:\n",
    "\n",
    "Input: nums1 = [1,3], nums2 = [2]\n",
    "Output: 2.00000\n",
    "Explanation: merged array = [1,2,3] and median is 2.\n",
    "# Example 2:\n",
    "\n",
    "Input: nums1 = [1,2], nums2 = [3,4]\n",
    "Output: 2.50000\n",
    "Explanation: merged array = [1,2,3,4] and median is (2 + 3) / 2 = 2.5."
   ]
  },
  {
   "cell_type": "code",
   "execution_count": null,
   "metadata": {},
   "outputs": [],
   "source": [
    "import math\n",
    "\n",
    "\n",
    "class Solution:\n",
    "    def findMedianSortedArrays(self, nums1: List[int], nums2: List[int]) -> float:\n",
    "        if len(nums1) % 2 == 0 and len(nums2) % 2 == 0:\n",
    "            # even-even\n",
    "            merged_array = nums1 + nums2\n",
    "            merged_array.sort()\n",
    "            med = float(\n",
    "                (\n",
    "                    merged_array[int(len(merged_array) / 2)]\n",
    "                    + merged_array[int(len(merged_array) / 2 - 1)]\n",
    "                )\n",
    "                / 2\n",
    "            )\n",
    "\n",
    "        elif len(nums1) % 2 != 0 and len(nums2) % 2 != 0:\n",
    "            # odd-odd\n",
    "            merged_array = nums1 + nums2\n",
    "            merged_array.sort()\n",
    "            med = float(\n",
    "                (\n",
    "                    merged_array[int(len(merged_array) / 2)]\n",
    "                    + merged_array[int(len(merged_array) / 2 - 1)]\n",
    "                )\n",
    "                / 2\n",
    "            )\n",
    "\n",
    "        elif len(nums1) % 2 != 0 and len(nums2) % 2 == 0:\n",
    "            # odd-even\n",
    "            merged_array = nums1 + nums2\n",
    "            merged_array.sort()\n",
    "            med = float(merged_array[math.floor(len(merged_array) / 2)])\n",
    "\n",
    "        elif len(nums1) % 2 == 0 and len(nums2) % 2 != 0:\n",
    "            # even-odd\n",
    "            merged_array = nums1 + nums2\n",
    "            merged_array.sort()\n",
    "            med = float(merged_array[math.floor(len(merged_array) / 2)])\n",
    "\n",
    "        return med"
   ]
  }
 ],
 "metadata": {
  "language_info": {
   "name": "python"
  }
 },
 "nbformat": 4,
 "nbformat_minor": 2
}
