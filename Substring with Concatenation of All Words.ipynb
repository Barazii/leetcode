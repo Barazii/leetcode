{
 "cells": [
  {
   "cell_type": "markdown",
   "metadata": {},
   "source": [
    "## Substring with Concatenation of All Words\n",
    "You are given a string s and an array of strings words. All the strings of words are of the same length.\n",
    "\n",
    "A concatenated string is a string that exactly contains all the strings of any permutation of words concatenated.\n",
    "\n",
    "For example, if words = [\"ab\",\"cd\",\"ef\"], then \"abcdef\", \"abefcd\", \"cdabef\", \"cdefab\", \"efabcd\", and \"efcdab\" are all concatenated strings. \"acdbef\" is not a concatenated string because it is not the concatenation of any permutation of words.\n",
    "Return an array of the starting indices of all the concatenated substrings in s. You can return the answer in any order.\n",
    "\n",
    " \n",
    "\n",
    "# Example 1:\n",
    "\n",
    "Input: s = \"barfoothefoobarman\", words = [\"foo\",\"bar\"]\n",
    "\n",
    "Output: [0,9]\n",
    "\n",
    "Explanation:\n",
    "\n",
    "The substring starting at 0 is \"barfoo\". It is the concatenation of [\"bar\",\"foo\"] which is a permutation of words.\n",
    "The substring starting at 9 is \"foobar\". It is the concatenation of [\"foo\",\"bar\"] which is a permutation of words.\n",
    "\n",
    "# Example 2:\n",
    "\n",
    "Input: s = \"wordgoodgoodgoodbestword\", words = [\"word\",\"good\",\"best\",\"word\"]\n",
    "\n",
    "Output: []\n",
    "\n",
    "Explanation:\n",
    "\n",
    "There is no concatenated substring.\n",
    "\n",
    "# Example 3:\n",
    "\n",
    "Input: s = \"barfoofoobarthefoobarman\", words = [\"bar\",\"foo\",\"the\"]\n",
    "\n",
    "Output: [6,9,12]\n",
    "\n",
    "Explanation:\n",
    "\n",
    "The substring starting at 6 is \"foobarthe\". It is the concatenation of [\"foo\",\"bar\",\"the\"].\n",
    "The substring starting at 9 is \"barthefoo\". It is the concatenation of [\"bar\",\"the\",\"foo\"].\n",
    "The substring starting at 12 is \"thefoobar\". It is the concatenation of [\"the\",\"foo\",\"bar\"]."
   ]
  },
  {
   "cell_type": "code",
   "execution_count": null,
   "metadata": {},
   "outputs": [],
   "source": [
    "import itertools\n",
    "\n",
    "\n",
    "class Solution:\n",
    "    def findSubstring(self, s: str, words: List[str]) -> List[int]:\n",
    "        ret = []\n",
    "        perm = itertools.permutations(words, len(words))\n",
    "        for group in perm:\n",
    "            w = \"\"\n",
    "            for j in group:\n",
    "                w += j\n",
    "            if s.find(w) != -1:\n",
    "                ret.append(s.find(w))\n",
    "        return ret"
   ]
  }
 ],
 "metadata": {
  "language_info": {
   "name": "python"
  }
 },
 "nbformat": 4,
 "nbformat_minor": 2
}
