{
 "cells": [
  {
   "cell_type": "code",
   "execution_count": null,
   "id": "72f5a6f2",
   "metadata": {},
   "outputs": [],
   "source": [
    "from collections import defaultdict\n",
    "\n",
    "\n",
    "class Solution:\n",
    "    def trap(self, height: List[int]) -> int:\n",
    "        # find duplicates and their positions\n",
    "        duplicate_heights = defaultdict(set)\n",
    "        for i, h in enumerate(height):\n",
    "            for j, hh in enumerate(height):\n",
    "                if h == hh:\n",
    "                    duplicate_heights[h].add(i)\n",
    "                    duplicate_heights[h].add(j)\n",
    "\n",
    "        # for height with duplicates > 1, count water squares\n",
    "        duplicate_heights = {\n",
    "            k: list(v) for k, v in duplicate_heights.items() if len(v) > 1 and k > 0\n",
    "        }\n",
    "        print(duplicate_heights)\n",
    "\n",
    "        for h, positions in duplicate_heights.items():\n",
    "            for i in range(len(positions)):\n",
    "                inbetween = 0\n",
    "                if i != len(positions) - 1:\n",
    "                    for j in range(positions[i] + 1, positions[i + 1]):\n",
    "                        if height[j] > h:\n",
    "                            inbetween = inbetween + 1\n",
    "                    water_squares = positions[i + 1] - positions[i] + 1 - 1 - inbetween"
   ]
  }
 ],
 "metadata": {
  "language_info": {
   "name": "python"
  }
 },
 "nbformat": 4,
 "nbformat_minor": 5
}
