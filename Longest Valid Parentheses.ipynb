{
 "cells": [
  {
   "cell_type": "code",
   "execution_count": null,
   "id": "c33f40a8",
   "metadata": {},
   "outputs": [],
   "source": [
    "class Solution:\n",
    "    def longestValidParentheses(self, s: str) -> int:\n",
    "        valid_parentheses_length = [0]\n",
    "        opening_index = [False for char in s]\n",
    "        for i, char in enumerate(s):\n",
    "            if char == \"(\":\n",
    "                opening_index[i] = True\n",
    "            elif char == \")\":\n",
    "                if any(opening_index):\n",
    "                    latest_arg = max((i for i, val in enumerate(opening_index) if val))\n",
    "                    valid_parentheses_length.append(i - latest_arg + 1)\n",
    "                    opening_index[latest_arg] = False\n",
    "\n",
    "        return sum(valid_parentheses_length)"
   ]
  }
 ],
 "metadata": {
  "kernelspec": {
   "display_name": ".venv",
   "language": "python",
   "name": "python3"
  },
  "language_info": {
   "codemirror_mode": {
    "name": "ipython",
    "version": 3
   },
   "file_extension": ".py",
   "mimetype": "text/x-python",
   "name": "python",
   "nbconvert_exporter": "python",
   "pygments_lexer": "ipython3",
   "version": "3.12.3"
  }
 },
 "nbformat": 4,
 "nbformat_minor": 5
}
